{
 "cells": [
  {
   "cell_type": "markdown",
   "metadata": {},
   "source": [
    "Fernando González Colín\n",
    "\n",
    "April 10th, 2019\n",
    "\n",
    "Ciudad de México, México\n",
    "\n",
    "gc.fernando.96@gmail.com"
   ]
  },
  {
   "cell_type": "markdown",
   "metadata": {},
   "source": [
    "Examples taken from https://www.tensorflow.org/guide/low_level_intro"
   ]
  },
  {
   "cell_type": "code",
   "execution_count": 36,
   "metadata": {},
   "outputs": [],
   "source": [
    "import numpy as np\n",
    "import tensorflow as tf\n",
    "from matplotlib import pyplot as plt"
   ]
  },
  {
   "cell_type": "markdown",
   "metadata": {},
   "source": [
    "# Tensors"
   ]
  },
  {
   "cell_type": "code",
   "execution_count": 2,
   "metadata": {},
   "outputs": [
    {
     "name": "stdout",
     "output_type": "stream",
     "text": [
      "a: Tensor(\"Const:0\", shape=(), dtype=float32)\n",
      "b: Tensor(\"Const_1:0\", shape=(), dtype=float32)\n",
      "a+b: Tensor(\"add:0\", shape=(), dtype=float32)\n"
     ]
    }
   ],
   "source": [
    "a=tf.constant(5.0, dtype=tf.float32)\n",
    "b=tf.constant(2.5, dtype=tf.float32)\n",
    "add=a+b\n",
    "print('a: {0}\\nb: {1}\\na+b: {2}'.format(a,b,add))"
   ]
  },
  {
   "cell_type": "markdown",
   "metadata": {},
   "source": [
    "# Sessions"
   ]
  },
  {
   "cell_type": "code",
   "execution_count": 5,
   "metadata": {},
   "outputs": [
    {
     "name": "stdout",
     "output_type": "stream",
     "text": [
      "7.5\n",
      "{'ab': (5.0, 2.5), 'add': 7.5}\n"
     ]
    }
   ],
   "source": [
    "sess=tf.Session()\n",
    "print(sess.run(add))\n",
    "print(sess.run({'ab':(a,b), 'add':add}))"
   ]
  },
  {
   "cell_type": "markdown",
   "metadata": {},
   "source": [
    "# Generate random tensors nxm"
   ]
  },
  {
   "cell_type": "code",
   "execution_count": 16,
   "metadata": {},
   "outputs": [
    {
     "name": "stdout",
     "output_type": "stream",
     "text": [
      "[[0.06201756 0.91145694]\n",
      " [0.24147499 0.46653736]\n",
      " [0.9177904  0.52944446]\n",
      " [0.33175755 0.69845283]\n",
      " [0.8951558  0.0214498 ]]\n",
      "[[1.9854475 1.3399335]\n",
      " [1.8164548 1.4820795]\n",
      " [1.5573072 1.1230783]\n",
      " [1.5477445 1.6935511]\n",
      " [1.9459903 1.7750683]]\n",
      "[[2.6128893 2.8759613]\n",
      " [2.5331678 2.9967089]\n",
      " [2.0388627 2.976798 ]\n",
      " [2.652752  2.682569 ]\n",
      " [2.8735292 2.162012 ]]\n"
     ]
    }
   ],
   "source": [
    "vec=tf.random_uniform(shape=(5,2))\n",
    "out1=vec+1\n",
    "out2=vec+2\n",
    "print(sess.run(vec))\n",
    "print(sess.run(out1))\n",
    "print(sess.run(out2))"
   ]
  },
  {
   "cell_type": "markdown",
   "metadata": {},
   "source": [
    "# Feed tensors"
   ]
  },
  {
   "cell_type": "code",
   "execution_count": 10,
   "metadata": {},
   "outputs": [
    {
     "name": "stdout",
     "output_type": "stream",
     "text": [
      "7.5\n",
      "[3. 7.]\n"
     ]
    }
   ],
   "source": [
    "x=tf.placeholder(tf.float32)\n",
    "y=tf.placeholder(tf.float32)\n",
    "z=x+y\n",
    "print(sess.run(z,feed_dict={x:3,y:4.5}))\n",
    "print(sess.run(z,feed_dict={x:[1,3],y:[2,4]}))"
   ]
  },
  {
   "cell_type": "markdown",
   "metadata": {},
   "source": [
    "# Datasets"
   ]
  },
  {
   "cell_type": "code",
   "execution_count": 12,
   "metadata": {},
   "outputs": [
    {
     "name": "stdout",
     "output_type": "stream",
     "text": [
      "[0 1]\n",
      "[2 3]\n",
      "[4 5]\n",
      "[6 7]\n"
     ]
    }
   ],
   "source": [
    "my_data=[[0,1],[2,3],[4,5],[6,7]]\n",
    "slices=tf.data.Dataset.from_tensor_slices(my_data)\n",
    "next_item=slices.make_one_shot_iterator().get_next()\n",
    "\n",
    "while True:\n",
    "    try: print(sess.run(next_item))\n",
    "    except: break"
   ]
  },
  {
   "cell_type": "markdown",
   "metadata": {},
   "source": [
    "# Layers"
   ]
  },
  {
   "cell_type": "code",
   "execution_count": 15,
   "metadata": {},
   "outputs": [
    {
     "name": "stdout",
     "output_type": "stream",
     "text": [
      "[[-1.7866668]\n",
      " [-2.4919305]]\n"
     ]
    }
   ],
   "source": [
    "x=tf.placeholder(tf.float32, shape=[None, 3])\n",
    "linear_model=tf.layers.Dense(units=1)\n",
    "y=linear_model(x)\n",
    "\n",
    "init=tf.global_variables_initializer()\n",
    "sess.run(init)\n",
    "print(sess.run(y,{x:[[1,2,3],[4,5,6]]}))"
   ]
  },
  {
   "cell_type": "markdown",
   "metadata": {},
   "source": [
    "# Layers function shortcuts"
   ]
  },
  {
   "cell_type": "code",
   "execution_count": 17,
   "metadata": {},
   "outputs": [
    {
     "name": "stdout",
     "output_type": "stream",
     "text": [
      "[[1.4890054]\n",
      " [2.8500478]]\n"
     ]
    }
   ],
   "source": [
    "x=tf.placeholder(tf.float32, shape=[None, 3])\n",
    "y=tf.layers.dense(x,units=1)\n",
    "\n",
    "init=tf.global_variables_initializer()\n",
    "sess.run(init)\n",
    "print(sess.run(y,{x:[[1,2,3],[4,5,6]]}))"
   ]
  },
  {
   "cell_type": "markdown",
   "metadata": {},
   "source": [
    "# Feature columns"
   ]
  },
  {
   "cell_type": "code",
   "execution_count": 19,
   "metadata": {},
   "outputs": [
    {
     "name": "stdout",
     "output_type": "stream",
     "text": [
      "WARNING:tensorflow:From c:\\users\\fernando\\appdata\\local\\programs\\python\\python36\\lib\\site-packages\\tensorflow\\python\\ops\\sparse_ops.py:1165: sparse_to_dense (from tensorflow.python.ops.sparse_ops) is deprecated and will be removed in a future version.\n",
      "Instructions for updating:\n",
      "Create a `tf.sparse.SparseTensor` and use `tf.sparse.to_dense` instead.\n"
     ]
    }
   ],
   "source": [
    "features={\n",
    "    'sales':[[5],[10],[8],[9]],\n",
    "    'department': ['sports','sports','gardening','gardening']\n",
    "}\n",
    "\n",
    "department_column=tf.feature_column.categorical_column_with_vocabulary_list(\n",
    "    'department',\n",
    "    ['sports','gardening']\n",
    ")\n",
    "department_column=tf.feature_column.indicator_column(department_column)\n",
    "\n",
    "columns=[\n",
    "    tf.feature_column.numeric_column('sales'),\n",
    "    department_column\n",
    "]\n",
    "\n",
    "inputs=tf.feature_column.input_layer(features,columns)"
   ]
  },
  {
   "cell_type": "code",
   "execution_count": 25,
   "metadata": {},
   "outputs": [
    {
     "name": "stdout",
     "output_type": "stream",
     "text": [
      "[[ 1.  0.  5.]\n",
      " [ 1.  0. 10.]\n",
      " [ 0.  1.  8.]\n",
      " [ 0.  1.  9.]]\n"
     ]
    }
   ],
   "source": [
    "var_init=tf.global_variables_initializer()\n",
    "table_init=tf.tables_initializer()\n",
    "sess=tf.Session()\n",
    "sess.run((var_init,table_init))\n",
    "print(sess.run(inputs))"
   ]
  },
  {
   "cell_type": "markdown",
   "metadata": {},
   "source": [
    "# Training"
   ]
  },
  {
   "cell_type": "code",
   "execution_count": 35,
   "metadata": {},
   "outputs": [
    {
     "name": "stdout",
     "output_type": "stream",
     "text": [
      "[[0.9243518]\n",
      " [1.8487036]\n",
      " [2.7730556]\n",
      " [3.6974072]]\n",
      "19.151714\n"
     ]
    },
    {
     "data": {
      "image/png": "[encoded data removed]",
      "text/plain": [
       "<Figure size 432x288 with 1 Axes>"
      ]
     },
     "metadata": {
      "needs_background": "light"
     },
     "output_type": "display_data"
    }
   ],
   "source": [
    "# Define data\n",
    "x=tf.constant([[1],[2],[3],[4]],dtype=tf.float32)\n",
    "y_true=tf.constant([[0],[-1],[-2],[-3]],dtype=tf.float32)\n",
    "\n",
    "# Define model\n",
    "linear_model=tf.layers.Dense(units=1)\n",
    "y_pred=linear_model(x)\n",
    "\n",
    "# Prediction without training\n",
    "sess=tf.Session()\n",
    "init=tf.global_variables_initializer()\n",
    "sess.run(init)\n",
    "print(sess.run(y_pred))\n",
    "\n",
    "# Loss function\n",
    "loss=tf.losses.mean_squared_error(labels=y_true,predictions=y_pred)\n",
    "print(sess.run(loss))\n",
    "\n",
    "# Training\n",
    "optimizer=tf.train.GradientDescentOptimizer(0.01)\n",
    "train=optimizer.minimize(loss)\n",
    "\n",
    "training=np.array([])\n",
    "for i in range(100):\n",
    "    _, loss_value=sess.run((train,loss))\n",
    "    training=np.append(training,loss_value)\n",
    "    \n",
    "plt.plot(training)\n",
    "plt.title('Loss training')\n",
    "plt.show()"
   ]
  },
  {
   "cell_type": "code",
   "execution_count": null,
   "metadata": {},
   "outputs": [],
   "source": []
  }
 ],
 "metadata": {
  "kernelspec": {
   "display_name": "Python 3",
   "language": "python",
   "name": "python3"
  },
  "language_info": {
   "codemirror_mode": {
    "name": "ipython",
    "version": 3
   },
   "file_extension": ".py",
   "mimetype": "text/x-python",
   "name": "python",
   "nbconvert_exporter": "python",
   "pygments_lexer": "ipython3",
   "version": "3.6.7"
  }
 },
 "nbformat": 4,
 "nbformat_minor": 2
}
