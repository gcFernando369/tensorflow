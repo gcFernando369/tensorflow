{
 "cells": [
  {
   "cell_type": "markdown",
   "metadata": {},
   "source": [
    "Fernando González Colín\n",
    "\n",
    "Ciudad de México, México\n",
    "\n",
    "gc.fernando.96@gmail.com\n",
    "\n",
    "https://keras.io/examples/addition_rnn/\n",
    "\n",
    "https://towardsdatascience.com/understanding-lstm-and-its-quick-implementation-in-keras-for-sentiment-analysis-af410fd85b47"
   ]
  },
  {
   "cell_type": "code",
   "execution_count": 1,
   "metadata": {},
   "outputs": [],
   "source": [
    "import tensorflow as tf\n",
    "from tensorflow.keras import layers\n",
    "from tensorflow import keras\n",
    "import numpy as np\n",
    "from matplotlib import pyplot as plt"
   ]
  },
  {
   "cell_type": "code",
   "execution_count": null,
   "metadata": {},
   "outputs": [],
   "source": [
    "# Build data set\n",
    "sample: <number_1>,<number_2>,<number_3>\n",
    "target: <number_1>+<number_2>+<number_3>\n",
    "ex. [4,5,10,19]"
   ]
  },
  {
   "cell_type": "code",
   "execution_count": 141,
   "metadata": {},
   "outputs": [],
   "source": [
    "n_samples=50000\n",
    "n_nums=3\n",
    "n_max=10**2"
   ]
  },
  {
   "cell_type": "code",
   "execution_count": 168,
   "metadata": {},
   "outputs": [],
   "source": [
    "ds=[]\n",
    "for i in range(n_samples):\n",
    "    nums=np.random.randint(n_max,size=n_nums)\n",
    "    target=nums.sum()\n",
    "    ds.append(np.append(nums,target))\n",
    "ds=np.asarray(ds)\n",
    "ds=(ds-ds.min())/(ds.max()-ds.min())"
   ]
  },
  {
   "cell_type": "code",
   "execution_count": 169,
   "metadata": {},
   "outputs": [],
   "source": [
    "# Build model"
   ]
  },
  {
   "cell_type": "code",
   "execution_count": 173,
   "metadata": {},
   "outputs": [],
   "source": [
    "model=keras.Sequential()\n",
    "model.add(layers.Embedding(1,2,input_length = 3))\n",
    "model.add(layers.LSTM(1))\n",
    "model.add(layers.Dense(1))"
   ]
  },
  {
   "cell_type": "code",
   "execution_count": 178,
   "metadata": {},
   "outputs": [],
   "source": [
    "model.compile(\n",
    "    loss='mse',\n",
    "    optimizer='adam',\n",
    "    metrics=['mae']\n",
    ")"
   ]
  },
  {
   "cell_type": "code",
   "execution_count": 179,
   "metadata": {},
   "outputs": [
    {
     "name": "stdout",
     "output_type": "stream",
     "text": [
      "_________________________________________________________________\n",
      "Layer (type)                 Output Shape              Param #   \n",
      "=================================================================\n",
      "embedding_6 (Embedding)      (None, 3, 1)              1         \n",
      "_________________________________________________________________\n",
      "lstm_29 (LSTM)               (None, 1)                 12        \n",
      "_________________________________________________________________\n",
      "dense_56 (Dense)             (None, 1)                 2         \n",
      "=================================================================\n",
      "Total params: 15\n",
      "Trainable params: 15\n",
      "Non-trainable params: 0\n",
      "_________________________________________________________________\n"
     ]
    }
   ],
   "source": [
    "model.summary()"
   ]
  },
  {
   "cell_type": "code",
   "execution_count": 180,
   "metadata": {},
   "outputs": [],
   "source": [
    "x=ds[:,:n_nums]\n",
    "y=ds[:,n_nums]"
   ]
  },
  {
   "cell_type": "code",
   "execution_count": 183,
   "metadata": {},
   "outputs": [
    {
     "name": "stdout",
     "output_type": "stream",
     "text": [
      "Epoch 1/5\n",
      "50000/50000 [==============================] - 6s 125us/step - loss: 0.0289 - mean_absolute_error: 0.1381\n",
      "Epoch 2/5\n",
      "50000/50000 [==============================] - 6s 128us/step - loss: 0.0289 - mean_absolute_error: 0.1382\n",
      "Epoch 3/5\n",
      "50000/50000 [==============================] - 5s 110us/step - loss: 0.0289 - mean_absolute_error: 0.1381\n",
      "Epoch 4/5\n",
      "50000/50000 [==============================] - 6s 123us/step - loss: 0.0289 - mean_absolute_error: 0.1381\n",
      "Epoch 5/5\n",
      "50000/50000 [==============================] - 6s 117us/step - loss: 0.0289 - mean_absolute_error: 0.1381\n"
     ]
    },
    {
     "data": {
      "text/plain": [
       "<tensorflow.python.keras.callbacks.History at 0x4f4b992ef0>"
      ]
     },
     "execution_count": 183,
     "metadata": {},
     "output_type": "execute_result"
    }
   ],
   "source": [
    "model.fit(x,y,epochs=5)"
   ]
  },
  {
   "cell_type": "code",
   "execution_count": 184,
   "metadata": {},
   "outputs": [],
   "source": [
    "t=np.array([\n",
    "    [0.1,0.10,0.8],\n",
    "    [0.100,0.2,0.3]\n",
    "])\n",
    "p=model.predict(t)"
   ]
  },
  {
   "cell_type": "code",
   "execution_count": 185,
   "metadata": {},
   "outputs": [
    {
     "data": {
      "text/plain": [
       "array([[0.5112517],\n",
       "       [0.5112517]], dtype=float32)"
      ]
     },
     "execution_count": 185,
     "metadata": {},
     "output_type": "execute_result"
    }
   ],
   "source": [
    "p"
   ]
  },
  {
   "cell_type": "code",
   "execution_count": null,
   "metadata": {},
   "outputs": [],
   "source": []
  }
 ],
 "metadata": {
  "kernelspec": {
   "display_name": "Python 3",
   "language": "python",
   "name": "python3"
  },
  "language_info": {
   "codemirror_mode": {
    "name": "ipython",
    "version": 3
   },
   "file_extension": ".py",
   "mimetype": "text/x-python",
   "name": "python",
   "nbconvert_exporter": "python",
   "pygments_lexer": "ipython3",
   "version": "3.6.7"
  }
 },
 "nbformat": 4,
 "nbformat_minor": 2
}
