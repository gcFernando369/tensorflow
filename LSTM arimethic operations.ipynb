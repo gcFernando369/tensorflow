{
 "cells": [
  {
   "cell_type": "markdown",
   "metadata": {},
   "source": [
    "Fernando González Colín\n",
    "\n",
    "Ciudad de México, México\n",
    "\n",
    "gc.fernando.96@gmail.com\n",
    "\n",
    "References:\n",
    "\n",
    "https://www.youtube.com/watch?v=iMIWee_PXl8&t=367s\n",
    "\n",
    "https://keras.io/examples/addition_rnn/\n",
    "\n",
    "https://towardsdatascience.com/understanding-lstm-and-its-quick-implementation-in-keras-for-sentiment-analysis-af410fd85b47"
   ]
  },
  {
   "cell_type": "code",
   "execution_count": 1,
   "metadata": {},
   "outputs": [],
   "source": [
    "import tensorflow as tf\n",
    "from tensorflow.keras import layers\n",
    "from tensorflow import keras\n",
    "import numpy as np\n",
    "from matplotlib import pyplot as plt\n",
    "from sklearn.model_selection import train_test_split"
   ]
  },
  {
   "cell_type": "markdown",
   "metadata": {},
   "source": [
    "# Build dataset"
   ]
  },
  {
   "cell_type": "code",
   "execution_count": 2,
   "metadata": {},
   "outputs": [],
   "source": [
    "data=np.asarray([[[i+j] for i in range(5)] for j in range(1000)])\n",
    "target=np.asarray([(i+5) for i in range(1000)])\n",
    "\n",
    "# Normalization\n",
    "data=(data-data.min())/(data.max()-data.min())\n",
    "target=(target-target.min())/(target.max()-target.min())"
   ]
  },
  {
   "cell_type": "code",
   "execution_count": 3,
   "metadata": {},
   "outputs": [],
   "source": [
    "x_train,x_test,y_train,y_test=train_test_split(data, target, test_size=0.2)"
   ]
  },
  {
   "cell_type": "markdown",
   "metadata": {},
   "source": [
    "# Build model"
   ]
  },
  {
   "cell_type": "code",
   "execution_count": 4,
   "metadata": {},
   "outputs": [
    {
     "name": "stdout",
     "output_type": "stream",
     "text": [
      "_________________________________________________________________\n",
      "Layer (type)                 Output Shape              Param #   \n",
      "=================================================================\n",
      "lstm (LSTM)                  (None, 5, 5)              140       \n",
      "_________________________________________________________________\n",
      "lstm_1 (LSTM)                (None, 1)                 28        \n",
      "=================================================================\n",
      "Total params: 168\n",
      "Trainable params: 168\n",
      "Non-trainable params: 0\n",
      "_________________________________________________________________\n"
     ]
    }
   ],
   "source": [
    "model=keras.Sequential()\n",
    "model.add(layers.LSTM((5),batch_input_shape=(None,5,1), return_sequences=True))\n",
    "model.add(layers.LSTM((1),batch_input_shape=(None,5,1), return_sequences=False))\n",
    "model.compile(loss='mean_absolute_error',optimizer='adam',metrics=['accuracy'])\n",
    "model.summary()"
   ]
  },
  {
   "cell_type": "markdown",
   "metadata": {},
   "source": [
    "# Train model"
   ]
  },
  {
   "cell_type": "code",
   "execution_count": 5,
   "metadata": {
    "scrolled": false
   },
   "outputs": [
    {
     "name": "stdout",
     "output_type": "stream",
     "text": [
      "Train on 800 samples, validate on 200 samples\n",
      "Epoch 1/100\n",
      "800/800 [==============================] - 2s 3ms/step - loss: 0.5735 - acc: 0.0000e+00 - val_loss: 0.5065 - val_acc: 0.0050\n",
      "Epoch 2/100\n",
      "800/800 [==============================] - 0s 266us/step - loss: 0.5212 - acc: 0.0000e+00 - val_loss: 0.4583 - val_acc: 0.0050\n",
      "Epoch 3/100\n",
      "800/800 [==============================] - 0s 253us/step - loss: 0.4731 - acc: 0.0000e+00 - val_loss: 0.4102 - val_acc: 0.0050\n",
      "Epoch 4/100\n",
      "800/800 [==============================] - 0s 260us/step - loss: 0.4193 - acc: 0.0000e+00 - val_loss: 0.3517 - val_acc: 0.0050\n",
      "Epoch 5/100\n",
      "800/800 [==============================] - 0s 242us/step - loss: 0.3513 - acc: 0.0000e+00 - val_loss: 0.2829 - val_acc: 0.0050\n",
      "Epoch 6/100\n",
      "800/800 [==============================] - 0s 256us/step - loss: 0.2795 - acc: 0.0000e+00 - val_loss: 0.2269 - val_acc: 0.0050\n",
      "Epoch 7/100\n",
      "800/800 [==============================] - 0s 256us/step - loss: 0.2283 - acc: 0.0000e+00 - val_loss: 0.2030 - val_acc: 0.0050\n",
      "Epoch 8/100\n",
      "800/800 [==============================] - 0s 260us/step - loss: 0.2055 - acc: 0.0013 - val_loss: 0.1914 - val_acc: 0.0050\n",
      "Epoch 9/100\n",
      "800/800 [==============================] - 0s 296us/step - loss: 0.1909 - acc: 0.0013 - val_loss: 0.1785 - val_acc: 0.0050\n",
      "Epoch 10/100\n",
      "800/800 [==============================] - 0s 274us/step - loss: 0.1755 - acc: 0.0013 - val_loss: 0.1621 - val_acc: 0.0050\n",
      "Epoch 11/100\n",
      "800/800 [==============================] - 0s 250us/step - loss: 0.1559 - acc: 0.0013 - val_loss: 0.1399 - val_acc: 0.0050\n",
      "Epoch 12/100\n",
      "800/800 [==============================] - 0s 269us/step - loss: 0.1313 - acc: 0.0013 - val_loss: 0.1124 - val_acc: 0.0050\n",
      "Epoch 13/100\n",
      "800/800 [==============================] - 0s 268us/step - loss: 0.1001 - acc: 0.0013 - val_loss: 0.0763 - val_acc: 0.0050\n",
      "Epoch 14/100\n",
      "800/800 [==============================] - 0s 285us/step - loss: 0.0598 - acc: 0.0013 - val_loss: 0.0347 - val_acc: 0.0050\n",
      "Epoch 15/100\n",
      "800/800 [==============================] - 0s 265us/step - loss: 0.0320 - acc: 0.0013 - val_loss: 0.0284 - val_acc: 0.0050\n",
      "Epoch 16/100\n",
      "800/800 [==============================] - 0s 260us/step - loss: 0.0291 - acc: 0.0013 - val_loss: 0.0274 - val_acc: 0.0050\n",
      "Epoch 17/100\n",
      "800/800 [==============================] - 0s 291us/step - loss: 0.0273 - acc: 0.0013 - val_loss: 0.0252 - val_acc: 0.0050\n",
      "Epoch 18/100\n",
      "800/800 [==============================] - 0s 266us/step - loss: 0.0257 - acc: 0.0013 - val_loss: 0.0240 - val_acc: 0.0050\n",
      "Epoch 19/100\n",
      "800/800 [==============================] - 0s 254us/step - loss: 0.0246 - acc: 0.0013 - val_loss: 0.0229 - val_acc: 0.0050\n",
      "Epoch 20/100\n",
      "800/800 [==============================] - 0s 266us/step - loss: 0.0235 - acc: 0.0013 - val_loss: 0.0221 - val_acc: 0.0050\n",
      "Epoch 21/100\n",
      "800/800 [==============================] - 0s 255us/step - loss: 0.0224 - acc: 0.0013 - val_loss: 0.0211 - val_acc: 0.0050\n",
      "Epoch 22/100\n",
      "800/800 [==============================] - 0s 250us/step - loss: 0.0216 - acc: 0.0013 - val_loss: 0.0206 - val_acc: 0.0050\n",
      "Epoch 23/100\n",
      "800/800 [==============================] - 0s 273us/step - loss: 0.0212 - acc: 0.0013 - val_loss: 0.0205 - val_acc: 0.0050\n",
      "Epoch 24/100\n",
      "800/800 [==============================] - 0s 254us/step - loss: 0.0206 - acc: 0.0013 - val_loss: 0.0193 - val_acc: 0.0050\n",
      "Epoch 25/100\n",
      "800/800 [==============================] - 0s 258us/step - loss: 0.0195 - acc: 0.0013 - val_loss: 0.0184 - val_acc: 0.0050\n",
      "Epoch 26/100\n",
      "800/800 [==============================] - 0s 244us/step - loss: 0.0188 - acc: 0.0013 - val_loss: 0.0179 - val_acc: 0.0050\n",
      "Epoch 27/100\n",
      "800/800 [==============================] - 0s 253us/step - loss: 0.0182 - acc: 0.0013 - val_loss: 0.0175 - val_acc: 0.0050\n",
      "Epoch 28/100\n",
      "800/800 [==============================] - 0s 260us/step - loss: 0.0177 - acc: 0.0013 - val_loss: 0.0169 - val_acc: 0.0050\n",
      "Epoch 29/100\n",
      "800/800 [==============================] - 0s 263us/step - loss: 0.0174 - acc: 0.0013 - val_loss: 0.0167 - val_acc: 0.0050\n",
      "Epoch 30/100\n",
      "800/800 [==============================] - 0s 244us/step - loss: 0.0167 - acc: 0.0013 - val_loss: 0.0160 - val_acc: 0.0050\n",
      "Epoch 31/100\n",
      "800/800 [==============================] - 0s 245us/step - loss: 0.0163 - acc: 0.0013 - val_loss: 0.0160 - val_acc: 0.0050\n",
      "Epoch 32/100\n",
      "800/800 [==============================] - 0s 240us/step - loss: 0.0162 - acc: 0.0013 - val_loss: 0.0150 - val_acc: 0.0050\n",
      "Epoch 33/100\n",
      "800/800 [==============================] - 0s 251us/step - loss: 0.0154 - acc: 0.0013 - val_loss: 0.0146 - val_acc: 0.0050\n",
      "Epoch 34/100\n",
      "800/800 [==============================] - 0s 259us/step - loss: 0.0147 - acc: 0.0013 - val_loss: 0.0146 - val_acc: 0.0050\n",
      "Epoch 35/100\n",
      "800/800 [==============================] - 0s 259us/step - loss: 0.0146 - acc: 0.0013 - val_loss: 0.0139 - val_acc: 0.0050\n",
      "Epoch 36/100\n",
      "800/800 [==============================] - 0s 253us/step - loss: 0.0140 - acc: 0.0013 - val_loss: 0.0132 - val_acc: 0.0050\n",
      "Epoch 37/100\n",
      "800/800 [==============================] - 0s 259us/step - loss: 0.0138 - acc: 0.0013 - val_loss: 0.0153 - val_acc: 0.0050\n",
      "Epoch 38/100\n",
      "800/800 [==============================] - 0s 258us/step - loss: 0.0133 - acc: 0.0013 - val_loss: 0.0132 - val_acc: 0.0050\n",
      "Epoch 39/100\n",
      "800/800 [==============================] - 0s 251us/step - loss: 0.0131 - acc: 0.0013 - val_loss: 0.0120 - val_acc: 0.0050\n",
      "Epoch 40/100\n",
      "800/800 [==============================] - 0s 236us/step - loss: 0.0123 - acc: 0.0013 - val_loss: 0.0120 - val_acc: 0.0050\n",
      "Epoch 41/100\n",
      "800/800 [==============================] - 0s 245us/step - loss: 0.0122 - acc: 0.0013 - val_loss: 0.0118 - val_acc: 0.0050\n",
      "Epoch 42/100\n",
      "800/800 [==============================] - 0s 254us/step - loss: 0.0114 - acc: 0.0013 - val_loss: 0.0108 - val_acc: 0.0050\n",
      "Epoch 43/100\n",
      "800/800 [==============================] - 0s 246us/step - loss: 0.0110 - acc: 0.0013 - val_loss: 0.0105 - val_acc: 0.0050\n",
      "Epoch 44/100\n",
      "800/800 [==============================] - 0s 243us/step - loss: 0.0106 - acc: 0.0013 - val_loss: 0.0103 - val_acc: 0.0050\n",
      "Epoch 45/100\n",
      "800/800 [==============================] - 0s 246us/step - loss: 0.0101 - acc: 0.0013 - val_loss: 0.0097 - val_acc: 0.0050\n",
      "Epoch 46/100\n",
      "800/800 [==============================] - 0s 239us/step - loss: 0.0098 - acc: 0.0013 - val_loss: 0.0095 - val_acc: 0.0050\n",
      "Epoch 47/100\n",
      "800/800 [==============================] - 0s 255us/step - loss: 0.0094 - acc: 0.0013 - val_loss: 0.0091 - val_acc: 0.0050\n",
      "Epoch 48/100\n",
      "800/800 [==============================] - 0s 245us/step - loss: 0.0089 - acc: 0.0013 - val_loss: 0.0084 - val_acc: 0.0050\n",
      "Epoch 49/100\n",
      "800/800 [==============================] - 0s 231us/step - loss: 0.0085 - acc: 0.0013 - val_loss: 0.0078 - val_acc: 0.0050\n",
      "Epoch 50/100\n",
      "800/800 [==============================] - 0s 248us/step - loss: 0.0080 - acc: 0.0013 - val_loss: 0.0073 - val_acc: 0.0050\n",
      "Epoch 51/100\n",
      "800/800 [==============================] - 0s 239us/step - loss: 0.0074 - acc: 0.0013 - val_loss: 0.0070 - val_acc: 0.0050\n",
      "Epoch 52/100\n",
      "800/800 [==============================] - 0s 253us/step - loss: 0.0067 - acc: 0.0013 - val_loss: 0.0063 - val_acc: 0.0050\n",
      "Epoch 53/100\n",
      "800/800 [==============================] - 0s 251us/step - loss: 0.0061 - acc: 0.0013 - val_loss: 0.0059 - val_acc: 0.0050\n",
      "Epoch 54/100\n",
      "800/800 [==============================] - 0s 241us/step - loss: 0.0056 - acc: 0.0013 - val_loss: 0.0057 - val_acc: 0.0050\n",
      "Epoch 55/100\n",
      "800/800 [==============================] - 0s 244us/step - loss: 0.0053 - acc: 0.0013 - val_loss: 0.0050 - val_acc: 0.0050\n",
      "Epoch 56/100\n",
      "800/800 [==============================] - 0s 244us/step - loss: 0.0054 - acc: 0.0013 - val_loss: 0.0068 - val_acc: 0.0050\n",
      "Epoch 57/100\n",
      "800/800 [==============================] - 0s 244us/step - loss: 0.0067 - acc: 0.0013 - val_loss: 0.0061 - val_acc: 0.0050\n",
      "Epoch 58/100\n",
      "800/800 [==============================] - 0s 256us/step - loss: 0.0053 - acc: 0.0013 - val_loss: 0.0064 - val_acc: 0.0050\n",
      "Epoch 59/100\n",
      "800/800 [==============================] - 0s 236us/step - loss: 0.0048 - acc: 0.0013 - val_loss: 0.0048 - val_acc: 0.0050\n",
      "Epoch 60/100\n",
      "800/800 [==============================] - 0s 239us/step - loss: 0.0044 - acc: 0.0013 - val_loss: 0.0046 - val_acc: 0.0050\n"
     ]
    },
    {
     "name": "stdout",
     "output_type": "stream",
     "text": [
      "Epoch 61/100\n",
      "800/800 [==============================] - 0s 235us/step - loss: 0.0045 - acc: 0.0013 - val_loss: 0.0052 - val_acc: 0.0050\n",
      "Epoch 62/100\n",
      "800/800 [==============================] - 0s 263us/step - loss: 0.0046 - acc: 0.0013 - val_loss: 0.0050 - val_acc: 0.0050\n",
      "Epoch 63/100\n",
      "800/800 [==============================] - 0s 246us/step - loss: 0.0044 - acc: 0.0013 - val_loss: 0.0044 - val_acc: 0.0050\n",
      "Epoch 64/100\n",
      "800/800 [==============================] - 0s 254us/step - loss: 0.0045 - acc: 0.0013 - val_loss: 0.0042 - val_acc: 0.0050\n",
      "Epoch 65/100\n",
      "800/800 [==============================] - 0s 258us/step - loss: 0.0046 - acc: 0.0013 - val_loss: 0.0043 - val_acc: 0.0050\n",
      "Epoch 66/100\n",
      "800/800 [==============================] - 0s 253us/step - loss: 0.0042 - acc: 0.0013 - val_loss: 0.0042 - val_acc: 0.0050\n",
      "Epoch 67/100\n",
      "800/800 [==============================] - 0s 250us/step - loss: 0.0043 - acc: 0.0013 - val_loss: 0.0043 - val_acc: 0.0050\n",
      "Epoch 68/100\n",
      "800/800 [==============================] - 0s 289us/step - loss: 0.0041 - acc: 0.0013 - val_loss: 0.0041 - val_acc: 0.0050\n",
      "Epoch 69/100\n",
      "800/800 [==============================] - 0s 250us/step - loss: 0.0041 - acc: 0.0013 - val_loss: 0.0041 - val_acc: 0.0050\n",
      "Epoch 70/100\n",
      "800/800 [==============================] - 0s 256us/step - loss: 0.0041 - acc: 0.0013 - val_loss: 0.0044 - val_acc: 0.0050\n",
      "Epoch 71/100\n",
      "800/800 [==============================] - 0s 245us/step - loss: 0.0041 - acc: 0.0013 - val_loss: 0.0043 - val_acc: 0.0050\n",
      "Epoch 72/100\n",
      "800/800 [==============================] - 0s 270us/step - loss: 0.0041 - acc: 0.0013 - val_loss: 0.0042 - val_acc: 0.0050\n",
      "Epoch 73/100\n",
      "800/800 [==============================] - 0s 293us/step - loss: 0.0040 - acc: 0.0013 - val_loss: 0.0042 - val_acc: 0.0050\n",
      "Epoch 74/100\n",
      "800/800 [==============================] - 0s 259us/step - loss: 0.0039 - acc: 0.0013 - val_loss: 0.0039 - val_acc: 0.0050\n",
      "Epoch 75/100\n",
      "800/800 [==============================] - 0s 263us/step - loss: 0.0038 - acc: 0.0013 - val_loss: 0.0039 - val_acc: 0.0050\n",
      "Epoch 76/100\n",
      "800/800 [==============================] - 0s 264us/step - loss: 0.0039 - acc: 0.0013 - val_loss: 0.0038 - val_acc: 0.0050\n",
      "Epoch 77/100\n",
      "800/800 [==============================] - 0s 286us/step - loss: 0.0038 - acc: 0.0013 - val_loss: 0.0039 - val_acc: 0.0050\n",
      "Epoch 78/100\n",
      "800/800 [==============================] - 0s 291us/step - loss: 0.0038 - acc: 0.0013 - val_loss: 0.0038 - val_acc: 0.0050\n",
      "Epoch 79/100\n",
      "800/800 [==============================] - 0s 251us/step - loss: 0.0037 - acc: 0.0013 - val_loss: 0.0037 - val_acc: 0.0050\n",
      "Epoch 80/100\n",
      "800/800 [==============================] - 0s 261us/step - loss: 0.0039 - acc: 0.0013 - val_loss: 0.0041 - val_acc: 0.0050\n",
      "Epoch 81/100\n",
      "800/800 [==============================] - 0s 255us/step - loss: 0.0038 - acc: 0.0013 - val_loss: 0.0039 - val_acc: 0.0050\n",
      "Epoch 82/100\n",
      "800/800 [==============================] - 0s 260us/step - loss: 0.0041 - acc: 0.0013 - val_loss: 0.0038 - val_acc: 0.0050\n",
      "Epoch 83/100\n",
      "800/800 [==============================] - 0s 255us/step - loss: 0.0038 - acc: 0.0013 - val_loss: 0.0036 - val_acc: 0.0050\n",
      "Epoch 84/100\n",
      "800/800 [==============================] - 0s 265us/step - loss: 0.0036 - acc: 0.0013 - val_loss: 0.0037 - val_acc: 0.0050\n",
      "Epoch 85/100\n",
      "800/800 [==============================] - 0s 264us/step - loss: 0.0037 - acc: 0.0013 - val_loss: 0.0036 - val_acc: 0.0050\n",
      "Epoch 86/100\n",
      "800/800 [==============================] - 0s 254us/step - loss: 0.0041 - acc: 0.0013 - val_loss: 0.0036 - val_acc: 0.0050\n",
      "Epoch 87/100\n",
      "800/800 [==============================] - 0s 244us/step - loss: 0.0035 - acc: 0.0013 - val_loss: 0.0035 - val_acc: 0.0050\n",
      "Epoch 88/100\n",
      "800/800 [==============================] - 0s 245us/step - loss: 0.0038 - acc: 0.0013 - val_loss: 0.0039 - val_acc: 0.0050\n",
      "Epoch 89/100\n",
      "800/800 [==============================] - 0s 258us/step - loss: 0.0041 - acc: 0.0013 - val_loss: 0.0035 - val_acc: 0.0050\n",
      "Epoch 90/100\n",
      "800/800 [==============================] - 0s 260us/step - loss: 0.0036 - acc: 0.0013 - val_loss: 0.0035 - val_acc: 0.0050\n",
      "Epoch 91/100\n",
      "800/800 [==============================] - 0s 275us/step - loss: 0.0036 - acc: 0.0013 - val_loss: 0.0035 - val_acc: 0.0050\n",
      "Epoch 92/100\n",
      "800/800 [==============================] - 0s 251us/step - loss: 0.0037 - acc: 0.0013 - val_loss: 0.0037 - val_acc: 0.0050\n",
      "Epoch 93/100\n",
      "800/800 [==============================] - 0s 254us/step - loss: 0.0035 - acc: 0.0013 - val_loss: 0.0034 - val_acc: 0.0050\n",
      "Epoch 94/100\n",
      "800/800 [==============================] - 0s 254us/step - loss: 0.0035 - acc: 0.0013 - val_loss: 0.0038 - val_acc: 0.0050\n",
      "Epoch 95/100\n",
      "800/800 [==============================] - 0s 261us/step - loss: 0.0036 - acc: 0.0013 - val_loss: 0.0034 - val_acc: 0.0050\n",
      "Epoch 96/100\n",
      "800/800 [==============================] - 0s 253us/step - loss: 0.0036 - acc: 0.0013 - val_loss: 0.0033 - val_acc: 0.0050\n",
      "Epoch 97/100\n",
      "800/800 [==============================] - 0s 243us/step - loss: 0.0034 - acc: 0.0013 - val_loss: 0.0037 - val_acc: 0.0050\n",
      "Epoch 98/100\n",
      "800/800 [==============================] - 0s 239us/step - loss: 0.0034 - acc: 0.0013 - val_loss: 0.0037 - val_acc: 0.0050\n",
      "Epoch 99/100\n",
      "800/800 [==============================] - 0s 250us/step - loss: 0.0035 - acc: 0.0013 - val_loss: 0.0034 - val_acc: 0.0050\n",
      "Epoch 100/100\n",
      "800/800 [==============================] - 0s 259us/step - loss: 0.0035 - acc: 0.0013 - val_loss: 0.0036 - val_acc: 0.0050\n"
     ]
    }
   ],
   "source": [
    "history=model.fit(x_train,y_train,epochs=100,validation_data=(x_test,y_test))"
   ]
  },
  {
   "cell_type": "markdown",
   "metadata": {},
   "source": [
    "# Test model"
   ]
  },
  {
   "cell_type": "code",
   "execution_count": 6,
   "metadata": {},
   "outputs": [
    {
     "data": {
      "image/png": "[encoded data removed]",
      "text/plain": [
       "<Figure size 432x288 with 1 Axes>"
      ]
     },
     "metadata": {
      "needs_background": "light"
     },
     "output_type": "display_data"
    },
    {
     "data": {
      "image/png": "[encoded data removed]",
      "text/plain": [
       "<Figure size 432x288 with 1 Axes>"
      ]
     },
     "metadata": {
      "needs_background": "light"
     },
     "output_type": "display_data"
    }
   ],
   "source": [
    "results=model.predict(x_test)\n",
    "plt.scatter(range(200),results,c='r')\n",
    "plt.scatter(range(200),y_test,c='b')\n",
    "plt.show()\n",
    "\n",
    "plt.plot(history.history['loss'],c='b')\n",
    "plt.plot(history.history['val_loss'],c='r')\n",
    "plt.show()"
   ]
  },
  {
   "cell_type": "code",
   "execution_count": null,
   "metadata": {},
   "outputs": [],
   "source": []
  }
 ],
 "metadata": {
  "kernelspec": {
   "display_name": "Python 3",
   "language": "python",
   "name": "python3"
  },
  "language_info": {
   "codemirror_mode": {
    "name": "ipython",
    "version": 3
   },
   "file_extension": ".py",
   "mimetype": "text/x-python",
   "name": "python",
   "nbconvert_exporter": "python",
   "pygments_lexer": "ipython3",
   "version": "3.6.7"
  }
 },
 "nbformat": 4,
 "nbformat_minor": 2
}
